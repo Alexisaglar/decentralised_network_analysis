{
 "cells": [
  {
   "cell_type": "code",
   "execution_count": 7,
   "metadata": {},
   "outputs": [
    {
     "ename": "IndexError",
     "evalue": "only integers, slices (`:`), ellipsis (`...`), numpy.newaxis (`None`) and integer or boolean arrays are valid indices",
     "output_type": "error",
     "traceback": [
      "\u001b[0;31m---------------------------------------------------------------------------\u001b[0m",
      "\u001b[0;31mIndexError\u001b[0m                                Traceback (most recent call last)",
      "Cell \u001b[0;32mIn[7], line 60\u001b[0m\n\u001b[1;32m     57\u001b[0m     \u001b[38;5;28;01mreturn\u001b[39;00m Total_PV\n\u001b[1;32m     59\u001b[0m \u001b[38;5;66;03m# irradiance, temperature = get_csv_data(temperature_file, irradiance_file)\u001b[39;00m\n\u001b[0;32m---> 60\u001b[0m Total_PV \u001b[38;5;241m=\u001b[39m \u001b[43mpv_generation\u001b[49m\u001b[43m(\u001b[49m\u001b[43mirradiance\u001b[49m\u001b[43m,\u001b[49m\u001b[43m \u001b[49m\u001b[43mtemperature\u001b[49m\u001b[43m,\u001b[49m\u001b[43m \u001b[49m\u001b[43mseries_panel\u001b[49m\u001b[43m,\u001b[49m\u001b[43m \u001b[49m\u001b[43mparallel_panel\u001b[49m\u001b[43m,\u001b[49m\u001b[43m \u001b[49m\u001b[43mPCE_ref_CFPV\u001b[49m\u001b[43m)\u001b[49m\n\u001b[1;32m     62\u001b[0m Total_PV[\u001b[38;5;124m'\u001b[39m\u001b[38;5;124mP\u001b[39m\u001b[38;5;124m'\u001b[39m] \u001b[38;5;241m=\u001b[39m Total_PV[\u001b[38;5;124m'\u001b[39m\u001b[38;5;124mI\u001b[39m\u001b[38;5;124m'\u001b[39m]\u001b[38;5;241m*\u001b[39mTotal_PV[\u001b[38;5;124m'\u001b[39m\u001b[38;5;124mV\u001b[39m\u001b[38;5;124m'\u001b[39m]\n\u001b[1;32m     63\u001b[0m \u001b[38;5;66;03m#calculating other technology performance\u001b[39;00m\n",
      "Cell \u001b[0;32mIn[7], line 21\u001b[0m, in \u001b[0;36mpv_generation\u001b[0;34m(irradiance, temperature, series_panel, parallel_panel, PCE_ref_CFPV)\u001b[0m\n\u001b[1;32m     19\u001b[0m \u001b[38;5;28;01mdef\u001b[39;00m \u001b[38;5;21mpv_generation\u001b[39m(irradiance, temperature, series_panel, parallel_panel, PCE_ref_CFPV):\n\u001b[1;32m     20\u001b[0m     IL, I0, Rs, Rsh, nNsVth \u001b[38;5;241m=\u001b[39m pvsystem\u001b[38;5;241m.\u001b[39mcalcparams_desoto(\n\u001b[0;32m---> 21\u001b[0m         \u001b[43mirradiance\u001b[49m\u001b[43m[\u001b[49m\u001b[38;5;124;43m'\u001b[39;49m\u001b[38;5;124;43mGHI\u001b[39;49m\u001b[38;5;124;43m'\u001b[39;49m\u001b[43m]\u001b[49m,\n\u001b[1;32m     22\u001b[0m         temperature[\u001b[38;5;124m'\u001b[39m\u001b[38;5;124mt2m\u001b[39m\u001b[38;5;124m'\u001b[39m],\n\u001b[1;32m     23\u001b[0m         alpha_sc\u001b[38;5;241m=\u001b[39mparameters[\u001b[38;5;124m'\u001b[39m\u001b[38;5;124malpha_sc\u001b[39m\u001b[38;5;124m'\u001b[39m],\n\u001b[1;32m     24\u001b[0m         a_ref\u001b[38;5;241m=\u001b[39mparameters[\u001b[38;5;124m'\u001b[39m\u001b[38;5;124ma_ref\u001b[39m\u001b[38;5;124m'\u001b[39m],\n\u001b[1;32m     25\u001b[0m         I_L_ref\u001b[38;5;241m=\u001b[39mparameters[\u001b[38;5;124m'\u001b[39m\u001b[38;5;124mI_L_ref\u001b[39m\u001b[38;5;124m'\u001b[39m],\n\u001b[1;32m     26\u001b[0m         I_o_ref\u001b[38;5;241m=\u001b[39mparameters[\u001b[38;5;124m'\u001b[39m\u001b[38;5;124mI_o_ref\u001b[39m\u001b[38;5;124m'\u001b[39m],\n\u001b[1;32m     27\u001b[0m         R_sh_ref\u001b[38;5;241m=\u001b[39mparameters[\u001b[38;5;124m'\u001b[39m\u001b[38;5;124mR_sh_ref\u001b[39m\u001b[38;5;124m'\u001b[39m],\n\u001b[1;32m     28\u001b[0m         R_s\u001b[38;5;241m=\u001b[39mparameters[\u001b[38;5;124m'\u001b[39m\u001b[38;5;124mR_s\u001b[39m\u001b[38;5;124m'\u001b[39m],\n\u001b[1;32m     29\u001b[0m         EgRef\u001b[38;5;241m=\u001b[39m\u001b[38;5;241m1.121\u001b[39m,\n\u001b[1;32m     30\u001b[0m         dEgdT\u001b[38;5;241m=\u001b[39m\u001b[38;5;241m-\u001b[39m\u001b[38;5;241m0.0002677\u001b[39m\n\u001b[1;32m     31\u001b[0m     )\n\u001b[1;32m     33\u001b[0m     \u001b[38;5;66;03m# plug the parameters into the SDE and solve for IV curves:\u001b[39;00m\n\u001b[1;32m     34\u001b[0m     curve_info \u001b[38;5;241m=\u001b[39m pvsystem\u001b[38;5;241m.\u001b[39msinglediode(\n\u001b[1;32m     35\u001b[0m         photocurrent\u001b[38;5;241m=\u001b[39mIL,\n\u001b[1;32m     36\u001b[0m         saturation_current\u001b[38;5;241m=\u001b[39mI0,\n\u001b[0;32m   (...)\u001b[0m\n\u001b[1;32m     41\u001b[0m         method\u001b[38;5;241m=\u001b[39m\u001b[38;5;124m'\u001b[39m\u001b[38;5;124mlambertw\u001b[39m\u001b[38;5;124m'\u001b[39m\n\u001b[1;32m     42\u001b[0m     )\n",
      "\u001b[0;31mIndexError\u001b[0m: only integers, slices (`:`), ellipsis (`...`), numpy.newaxis (`None`) and integer or boolean arrays are valid indices"
     ]
    }
   ],
   "source": [
    "import matplotlib.pyplot as plt\n",
    "import numpy as np\n",
    "import pandas as pd\n",
    "from pvlib import pvsystem\n",
    "from datetime import datetime\n",
    "from parameters_pv import parameters\n",
    "\n",
    "series_panel = 5\n",
    "parallel_panel = 3 \n",
    "#CFPV Data\n",
    "PCE_ref_CFPV = 10\n",
    "#y=mx+b\n",
    "slope_2x_enhance = (-1/100)\n",
    "constant_2x_enhance = 20\n",
    "irradiance = np.linspace(0, 1000, 50)  # From 0 to 1 sun (1000 W/m^2)\n",
    "temperature = np.linspace(0, 35, 50)  # Temperature range\n",
    "\n",
    "\n",
    "def pv_generation(irradiance, temperature, series_panel, parallel_panel, PCE_ref_CFPV):\n",
    "    IL, I0, Rs, Rsh, nNsVth = pvsystem.calcparams_desoto(\n",
    "        irradiance['GHI'],\n",
    "        temperature['t2m'],\n",
    "        alpha_sc=parameters['alpha_sc'],\n",
    "        a_ref=parameters['a_ref'],\n",
    "        I_L_ref=parameters['I_L_ref'],\n",
    "        I_o_ref=parameters['I_o_ref'],\n",
    "        R_sh_ref=parameters['R_sh_ref'],\n",
    "        R_s=parameters['R_s'],\n",
    "        EgRef=1.121,\n",
    "        dEgdT=-0.0002677\n",
    "    )\n",
    "\n",
    "    # plug the parameters into the SDE and solve for IV curves:\n",
    "    curve_info = pvsystem.singlediode(\n",
    "        photocurrent=IL,\n",
    "        saturation_current=I0,\n",
    "        resistance_series=Rs,\n",
    "        resistance_shunt=Rsh,\n",
    "        nNsVth=nNsVth,\n",
    "        ivcurve_pnts=100,\n",
    "        method='lambertw'\n",
    "    )\n",
    "\n",
    "    Cell_result = pd.DataFrame({\n",
    "        'i_sc': curve_info['i_sc'],\n",
    "        'v_oc': curve_info['v_oc'],\n",
    "        'i_mp': curve_info['i_mp'],\n",
    "        'v_mp': curve_info['v_mp'],\n",
    "        'p_mp': curve_info['p_mp'],\n",
    "    }).set_index(irradiance.index)\n",
    "\n",
    "    Total_PV = pd.DataFrame({\n",
    "        'Irradiance': irradiance['GHI'],\n",
    "        'V': Cell_result['v_mp']*series_panel,\n",
    "        'I': Cell_result['i_mp']*parallel_panel,\n",
    "    })\n",
    "    return Total_PV\n",
    "\n",
    "# irradiance, temperature = get_csv_data(temperature_file, irradiance_file)\n",
    "Total_PV = pv_generation(irradiance, temperature, series_panel, parallel_panel, PCE_ref_CFPV)\n",
    "\n",
    "Total_PV['P'] = Total_PV['I']*Total_PV['V']\n",
    "#calculating other technology performance\n",
    "Total_PV['PCE@GHI'] = slope_2x_enhance * Total_PV['Irradiance'] + constant_2x_enhance  #y = mx+b\n",
    "Total_PV['P_CFPV'] = Total_PV['P']*(Total_PV['PCE@GHI']/PCE_ref_CFPV) # P = P_silicon * (Enhanced_PCE @ Iradiance level / Silicon PCE efficiency) \n",
    "    \n",
    "print(Total_PV)\n",
    "plt.plot(Total_PV['Irradiance'])\n",
    "plt.show()\n",
    "plt.plot(Total_PV.index, Total_PV[['P','P_CFPV']])\n",
    "Total_PV[['P','P_CFPV']].to_csv(f'data/pv_generation_data/pv_profiles/profile_year.csv') \n",
    "plt.show()\n",
    "\n",
    "# if __name__ == \"__main__\":\n",
    "#     print(\"PV energy generation is being calculated with temperature and irradiance given\")"
   ]
  },
  {
   "cell_type": "code",
   "execution_count": null,
   "metadata": {},
   "outputs": [],
   "source": []
  }
 ],
 "metadata": {
  "kernelspec": {
   "display_name": "Python 3",
   "language": "python",
   "name": "python3"
  },
  "language_info": {
   "codemirror_mode": {
    "name": "ipython",
    "version": 3
   },
   "file_extension": ".py",
   "mimetype": "text/x-python",
   "name": "python",
   "nbconvert_exporter": "python",
   "pygments_lexer": "ipython3",
   "version": "3.11.4"
  }
 },
 "nbformat": 4,
 "nbformat_minor": 2
}
